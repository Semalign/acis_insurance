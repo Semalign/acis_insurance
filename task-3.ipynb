{
 "cells": [
  {
   "cell_type": "markdown",
   "id": "17acd500",
   "metadata": {},
   "source": [
    "| Null Hypothesis                                               | Test Goal                                                     |\n",
    "| ------------------------------------------------------------- | ------------------------------------------------------------- |\n",
    "| **H₀₁**: No risk difference across provinces                  | Check if Claim Frequency or Severity differs across provinces |\n",
    "| **H₀₂**: No risk difference across zip codes                  | Same as above for PostalCode                                  |\n",
    "| **H₀₃**: No significant margin difference between zip codes   | Mean of (TotalPremium - TotalClaims)                          |\n",
    "| **H₀₄**: No significant risk difference between men and women | Gender-based difference in claims                             |\n"
   ]
  },
  {
   "cell_type": "code",
   "execution_count": 2,
   "id": "a71b911e",
   "metadata": {},
   "outputs": [
    {
     "name": "stderr",
     "output_type": "stream",
     "text": [
      "C:\\Users\\HP\\AppData\\Local\\Temp\\ipykernel_1660\\1903615200.py:3: DtypeWarning: Columns (32,37) have mixed types. Specify dtype option on import or set low_memory=False.\n",
      "  df = pd.read_csv(\"converted.csv\")\n"
     ]
    }
   ],
   "source": [
    "import pandas as pd\n",
    "\n",
    "df = pd.read_csv(\"converted.csv\")\n",
    "\n",
    "# Ensure TotalClaims and TotalPremium are numeric\n",
    "df['TotalClaims'] = pd.to_numeric(df['TotalClaims'], errors='coerce')\n",
    "df['TotalPremium'] = pd.to_numeric(df['TotalPremium'], errors='coerce')\n",
    "df.dropna(subset=['TotalClaims', 'TotalPremium'], inplace=True)\n",
    "\n",
    "# Create margin column\n",
    "df['Margin'] = df['TotalPremium'] - df['TotalClaims']\n",
    "\n",
    "# Create binary column for ClaimOccurred\n",
    "df['ClaimOccurred'] = (df['TotalClaims'] > 0).astype(int)\n"
   ]
  },
  {
   "cell_type": "code",
   "execution_count": 3,
   "id": "e3bf215a",
   "metadata": {},
   "outputs": [
    {
     "name": "stdout",
     "output_type": "stream",
     "text": [
      "Chi-Squared test for Claim Frequency by Province\n",
      "p-value: 0.0000\n"
     ]
    }
   ],
   "source": [
    "import scipy.stats as stats\n",
    "\n",
    "# Claim frequency\n",
    "province_freq = df.groupby('Province')['ClaimOccurred'].mean()\n",
    "\n",
    "# Chi-squared test for independence\n",
    "contingency = pd.crosstab(df['Province'], df['ClaimOccurred'])\n",
    "chi2, p, dof, _ = stats.chi2_contingency(contingency)\n",
    "print(\"Chi-Squared test for Claim Frequency by Province\")\n",
    "print(f\"p-value: {p:.4f}\")\n"
   ]
  },
  {
   "cell_type": "code",
   "execution_count": 4,
   "id": "cc9acb40",
   "metadata": {},
   "outputs": [
    {
     "name": "stdout",
     "output_type": "stream",
     "text": [
      "ANOVA for Claim Severity by Province\n",
      "p-value: 0.0000\n"
     ]
    }
   ],
   "source": [
    "# ANOVA for claim severity where claim > 0\n",
    "severity_df = df[df['TotalClaims'] > 0]\n",
    "anova_result = stats.f_oneway(\n",
    "    *[group[\"TotalClaims\"].values for name, group in severity_df.groupby(\"Province\")]\n",
    ")\n",
    "print(\"ANOVA for Claim Severity by Province\")\n",
    "print(f\"p-value: {anova_result.pvalue:.4f}\")\n"
   ]
  },
  {
   "cell_type": "code",
   "execution_count": 5,
   "id": "227ce0b1",
   "metadata": {},
   "outputs": [
    {
     "name": "stdout",
     "output_type": "stream",
     "text": [
      "ANOVA for Claim Severity by Zipcode\n",
      "p-value: 0.0335\n"
     ]
    }
   ],
   "source": [
    "zipcode_freq = df.groupby('PostalCode')['ClaimOccurred'].mean()\n",
    "zipcode_severity = df[df['TotalClaims'] > 0].groupby('PostalCode')['TotalClaims'].mean()\n",
    "\n",
    "# Use ANOVA on severity\n",
    "anova_zipcode = stats.f_oneway(\n",
    "    *[group[\"TotalClaims\"].values for name, group in severity_df.groupby(\"PostalCode\")]\n",
    ")\n",
    "print(\"ANOVA for Claim Severity by Zipcode\")\n",
    "print(f\"p-value: {anova_zipcode.pvalue:.4f}\")\n"
   ]
  },
  {
   "cell_type": "code",
   "execution_count": 6,
   "id": "db54569a",
   "metadata": {},
   "outputs": [
    {
     "name": "stdout",
     "output_type": "stream",
     "text": [
      "ANOVA for Margin by Zipcode\n",
      "p-value: 0.9977\n"
     ]
    }
   ],
   "source": [
    "margin_by_zipcode = df.groupby('PostalCode')['Margin'].mean()\n",
    "\n",
    "# ANOVA\n",
    "anova_margin = stats.f_oneway(\n",
    "    *[group[\"Margin\"].values for name, group in df.groupby(\"PostalCode\")]\n",
    ")\n",
    "print(\"ANOVA for Margin by Zipcode\")\n",
    "print(f\"p-value: {anova_margin.pvalue:.4f}\")\n"
   ]
  },
  {
   "cell_type": "code",
   "execution_count": 7,
   "id": "27c1a257",
   "metadata": {},
   "outputs": [
    {
     "name": "stdout",
     "output_type": "stream",
     "text": [
      "T-test for Claim Frequency by Gender\n",
      "p-value: 0.8405\n"
     ]
    }
   ],
   "source": [
    "# Claim Frequency\n",
    "male = df[df[\"Gender\"] == \"Male\"][\"ClaimOccurred\"]\n",
    "female = df[df[\"Gender\"] == \"Female\"][\"ClaimOccurred\"]\n",
    "\n",
    "# Use t-test\n",
    "t_stat, p_value = stats.ttest_ind(male, female)\n",
    "print(\"T-test for Claim Frequency by Gender\")\n",
    "print(f\"p-value: {p_value:.4f}\")\n"
   ]
  },
  {
   "cell_type": "code",
   "execution_count": null,
   "id": "49a0d9ba",
   "metadata": {},
   "outputs": [],
   "source": []
  },
  {
   "cell_type": "markdown",
   "id": "2c17ca10",
   "metadata": {},
   "source": [
    "| Hypothesis Code | Description                                                         | p-value    | Decision             | Business Insight                                                                 |\n",
    "| --------------- | ------------------------------------------------------------------- | ---------- | -------------------- | -------------------------------------------------------------------------------- |\n",
    "| **H₀₁**         | No significant difference in **claim risk** across **Provinces**    | **0.000**  | ❌ **Reject H₀₁**     | Significant claim frequency variation across provinces. Risk varies by region.   |\n",
    "| **H₀₂**         | No significant difference in **claim severity** across **Zipcodes** | **0.0335** | ❌ **Reject H₀₂**     | Claim severity depends on postal region. Targeted risk pricing is needed.        |\n",
    "| **H₀₃**         | No significant difference in **margins** across **Zipcodes**        | **0.997**  | ✅ **Fail to Reject** | Margins are uniform. No zip code is significantly more or less profitable.       |\n",
    "| **H₀₄**         | No significant difference in **claim frequency** by **Gender**      | **0.804**  | ✅ **Fail to Reject** | Gender does not impact risk. Gender-based premium segmentation is not justified. |\n",
    "\n"
   ]
  }
 ],
 "metadata": {
  "kernelspec": {
   "display_name": "base",
   "language": "python",
   "name": "python3"
  },
  "language_info": {
   "codemirror_mode": {
    "name": "ipython",
    "version": 3
   },
   "file_extension": ".py",
   "mimetype": "text/x-python",
   "name": "python",
   "nbconvert_exporter": "python",
   "pygments_lexer": "ipython3",
   "version": "3.12.9"
  }
 },
 "nbformat": 4,
 "nbformat_minor": 5
}
